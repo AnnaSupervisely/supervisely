{
 "cells": [
  {
   "cell_type": "markdown",
   "metadata": {},
   "source": [
    "# Supervisely Tutorial #5"
   ]
  },
  {
   "cell_type": "markdown",
   "metadata": {},
   "source": [
    "# Neural Network: automating training workflow using API"
   ]
  },
  {
   "cell_type": "markdown",
   "metadata": {},
   "source": [
    "Description\n",
    "\n",
    "Description\n",
    "\n",
    "description\n",
    "\n",
    "https://i.imgur.com/Qp8RgiI.png\n",
    "\n",
    "![alt text](https://i.imgur.com/Qp8RgiI.png \"Logo Title Text 1\")\n",
    "\n",
    "TODO: add training charts and few inference results "
   ]
  },
  {
   "cell_type": "markdown",
   "metadata": {},
   "source": [
    "# Imports"
   ]
  },
  {
   "cell_type": "code",
   "execution_count": 1,
   "metadata": {},
   "outputs": [],
   "source": [
    "%matplotlib inline\n",
    "import supervisely_lib as sly\n",
    "import os\n",
    "import matplotlib.pyplot as plt\n",
    "import json"
   ]
  },
  {
   "cell_type": "markdown",
   "metadata": {},
   "source": [
    "# Initialize API object"
   ]
  },
  {
   "cell_type": "code",
   "execution_count": 2,
   "metadata": {},
   "outputs": [
    {
     "name": "stdout",
     "output_type": "stream",
     "text": [
      "Server address:  http://192.168.1.69:5555\n",
      "Your API token:  OfaV5z24gEQ7ikv2DiVdYu1CXZhMavU7POtJw2iDtQtvGUux31DUyWTXW6mZ0wd3IRuXTNtMFS9pCggewQWRcqSTUi4EJXzly8kH7MJL1hm3uZeM2MCn5HaoEYwXejKT\n"
     ]
    }
   ],
   "source": [
    "# get server address and user api_token from environment variables\n",
    "address = os.environ['SERVER_ADDRESS']\n",
    "token = os.environ['API_TOKEN']\n",
    "\n",
    "# create api object\n",
    "api = sly.Api(address, token)\n",
    "\n",
    "print(\"Server address: \", address)\n",
    "print(\"Your API token: \", token)"
   ]
  },
  {
   "cell_type": "markdown",
   "metadata": {},
   "source": [
    "# Define context (team/workspace)"
   ]
  },
  {
   "cell_type": "code",
   "execution_count": 3,
   "metadata": {},
   "outputs": [
    {
     "name": "stdout",
     "output_type": "stream",
     "text": [
      "Team: id=9, name=max\n",
      "Workspace: id=84, name=tutorial_05\n"
     ]
    }
   ],
   "source": [
    "team = api.team.get_list()[0]\n",
    "\n",
    "workspace_name = \"tutorial_05\"\n",
    "if api.workspace.exists(team.id, workspace_name):\n",
    "    workspace = api.workspace.get_info_by_name(team.id, workspace_name)\n",
    "else:\n",
    "    workspace = api.workspace.create(team.id, workspace_name)\n",
    "\n",
    "print(\"Team: id={}, name={}\".format(team.id, team.name))\n",
    "print(\"Workspace: id={}, name={}\".format(workspace.id, workspace.name))"
   ]
  },
  {
   "cell_type": "markdown",
   "metadata": {},
   "source": [
    "# Check if \"UNet VGG weights\" model exists. Clone model and corresponding plugin from explore if needed"
   ]
  },
  {
   "cell_type": "code",
   "execution_count": 4,
   "metadata": {},
   "outputs": [
    {
     "name": "stdout",
     "output_type": "stream",
     "text": [
      "Model: id = 272, name = 'unet_vgg'\n"
     ]
    }
   ],
   "source": [
    "model_name = \"unet_vgg\"\n",
    "if not api.model.exists(workspace.id, model_name):\n",
    "    task_id = api.model.clone_from_explore('Supervisely/Model Zoo/UNet (VGG weights)', workspace.id, model_name)\n",
    "    api.task.wait(task_id, api.task.Status.FINISHED)\n",
    "model = api.model.get_info_by_name(workspace.id, model_name)\n",
    "print(\"Model: id = {}, name = {!r}\".format(model.id, model.name))"
   ]
  },
  {
   "cell_type": "markdown",
   "metadata": {},
   "source": [
    "# Check if projects \"lemons_annotated\" and \"lemons_test\" exist. Clone projects if needed"
   ]
  },
  {
   "cell_type": "code",
   "execution_count": 5,
   "metadata": {},
   "outputs": [],
   "source": [
    "def _clone_project(project_name, explore_path):\n",
    "    if not api.project.exists(workspace.id, project_name):\n",
    "        task_id = api.project.clone_from_explore(explore_path, workspace.id, project_name)\n",
    "        api.task.wait(task_id, api.task.Status.FINISHED)\n",
    "    project = api.project.get_info_by_name(workspace.id, project_name)\n",
    "    return project"
   ]
  },
  {
   "cell_type": "code",
   "execution_count": 6,
   "metadata": {},
   "outputs": [],
   "source": [
    "project_annotated_name = \"lemons_annotated\"\n",
    "project_test_name = \"lemons_test\""
   ]
  },
  {
   "cell_type": "code",
   "execution_count": 7,
   "metadata": {},
   "outputs": [
    {
     "name": "stdout",
     "output_type": "stream",
     "text": [
      "Annotated project: id = 951, name = 'lemons_annotated'\n",
      "Test project: id = 952, name = 'lemons_test'\n"
     ]
    }
   ],
   "source": [
    "project_annotated = _clone_project(project_annotated_name, 'Supervisely/Demo/lemons_annotated')\n",
    "project_test = _clone_project(project_test_name, 'Supervisely/Demo/lemons_test')\n",
    "\n",
    "print(\"Annotated project: id = {}, name = {!r}\".format(project_annotated.id, project_annotated.name))\n",
    "print(\"Test project: id = {}, name = {!r}\".format(project_test.id, project_test.name))"
   ]
  },
  {
   "cell_type": "markdown",
   "metadata": {},
   "source": [
    "# Check if agent exists and is running"
   ]
  },
  {
   "cell_type": "code",
   "execution_count": 8,
   "metadata": {},
   "outputs": [],
   "source": [
    "# please type your agent name here\n",
    "agent_name = \"agent_01\"\n",
    "\n",
    "agent = api.agent.get_info_by_name(team.id, agent_name)\n",
    "if agent is None:\n",
    "    raise RuntimeError(\"Agent {!r} not found\".format(agent_name))\n",
    "if agent.status is api.agent.Status.WAITING:\n",
    "    raise RuntimeError(\"Agent {!r} is not running\".format(agent_name))"
   ]
  },
  {
   "cell_type": "markdown",
   "metadata": {},
   "source": [
    "# Step1: Run DTL plugin to prepare training dataset "
   ]
  },
  {
   "cell_type": "code",
   "execution_count": 14,
   "metadata": {},
   "outputs": [],
   "source": [
    "project_train_name = \"lemons_train\""
   ]
  },
  {
   "cell_type": "code",
   "execution_count": 15,
   "metadata": {},
   "outputs": [],
   "source": [
    "# read graph template and define input/output projects\n",
    "path_dtl_graph = './dtl_segmentation_graph.json'\n",
    "with open(path_dtl_graph, 'r') as file:\n",
    "    dtl_graph_str = file.read()\n",
    "dtl_graph_str = dtl_graph_str.replace('%SRC_PROJECT_NAME%', project_annotated_name)\n",
    "dtl_graph_str = dtl_graph_str.replace('%DST_PROJECT_NAME%', project_train_name)\n",
    "dtl_graph = json.loads(dtl_graph_str)"
   ]
  },
  {
   "cell_type": "code",
   "execution_count": 16,
   "metadata": {},
   "outputs": [],
   "source": [
    "task_id = None\n",
    "if not api.project.exists(workspace.id, project_train_name):\n",
    "    task_id = api.task.run_dtl(workspace.id, dtl_graph, agent.id)\n",
    "    print('DTL task (id={}) is started'.format(task_id))"
   ]
  },
  {
   "cell_type": "code",
   "execution_count": 17,
   "metadata": {},
   "outputs": [],
   "source": [
    "if task_id is not None:\n",
    "    api.task.wait(task_id, api.task.Status.FINISHED)"
   ]
  },
  {
   "cell_type": "code",
   "execution_count": 19,
   "metadata": {},
   "outputs": [
    {
     "name": "stdout",
     "output_type": "stream",
     "text": [
      "Training dataset 'lemons_train' contains 72 images\n"
     ]
    }
   ],
   "source": [
    "project_train = api.project.get_info_by_name(workspace.id, project_train_name)\n",
    "print(\"Training dataset {!r} contains {} images\".format(project_train.name, api.project.get_images_count(project_train.id)))"
   ]
  },
  {
   "cell_type": "markdown",
   "metadata": {},
   "source": [
    "# Step2: Run NN training"
   ]
  },
  {
   "cell_type": "code",
   "execution_count": 21,
   "metadata": {},
   "outputs": [],
   "source": [
    "trained_model_name = \"nn_lemon_kiwi\"\n",
    "\n",
    "training_config = {\n",
    "  \"lr\": 0.001,\n",
    "  \"epochs\": 10,\n",
    "  \"val_every\": 0.5,\n",
    "  \"batch_size\": {\n",
    "    \"val\": 6,\n",
    "    \"train\": 12\n",
    "  },\n",
    "  \"input_size\": {\n",
    "    \"width\": 256,\n",
    "    \"height\": 256\n",
    "  },\n",
    "  \"gpu_devices\": [\n",
    "    0\n",
    "  ],\n",
    "  \"data_workers\": {\n",
    "    \"val\": 0,\n",
    "    \"train\": 3\n",
    "  },\n",
    "  \"dataset_tags\": {\n",
    "    \"val\": \"val\",\n",
    "    \"train\": \"train\"\n",
    "  },\n",
    "  \"special_classes\": {\n",
    "    \"neutral\": \"neutral\",\n",
    "    \"background\": \"bg\"\n",
    "  },\n",
    "  \"weights_init_type\": \"transfer_learning\"\n",
    "}"
   ]
  },
  {
   "cell_type": "code",
   "execution_count": 22,
   "metadata": {},
   "outputs": [
    {
     "name": "stdout",
     "output_type": "stream",
     "text": [
      "Train task (id=1563) is started\n"
     ]
    }
   ],
   "source": [
    "task_id = api.task.run_train(agent.id, project_train.id, model.id, trained_model_name, training_config)\n",
    "print('Train task (id={}) is started'.format(task_id))"
   ]
  },
  {
   "cell_type": "code",
   "execution_count": 23,
   "metadata": {},
   "outputs": [],
   "source": [
    "api.task.wait(task_id, api.task.Status.FINISHED)\n",
    "print('Train task (id={}) is finished'.format(task_id))"
   ]
  },
  {
   "cell_type": "code",
   "execution_count": 24,
   "metadata": {},
   "outputs": [
    {
     "name": "stdout",
     "output_type": "stream",
     "text": [
      "trained model: id = 273, name = 'nn_lemon_kiwi'\n"
     ]
    }
   ],
   "source": [
    "trained_model = api.model.get_info_by_name(workspace.id, trained_model_name)\n",
    "if trained_model is None:\n",
    "    raise RuntimeError(\"Model {!r} not found\".format(trained_model_name))\n",
    "\n",
    "print(\"trained model: id = {}, name = {!r}\".format(trained_model.id, trained_model.name))"
   ]
  },
  {
   "cell_type": "markdown",
   "metadata": {},
   "source": [
    "# Step3: NN inference on \"lemons_test\" project"
   ]
  },
  {
   "cell_type": "code",
   "execution_count": 25,
   "metadata": {},
   "outputs": [],
   "source": [
    "project_inf_name = \"lemons_test_inf\"\n",
    "\n",
    "inference_config = {\n",
    "    \"mode\": {\n",
    "      \"name\": \"full_image\",\n",
    "      \"model_classes\": {\n",
    "        \"add_suffix\": \"_unet\",\n",
    "        \"save_classes\": \"__all__\"\n",
    "      }\n",
    "    },\n",
    "    \"model\": {\n",
    "      \"gpu_device\": 0\n",
    "    }\n",
    "  }"
   ]
  },
  {
   "cell_type": "code",
   "execution_count": 26,
   "metadata": {},
   "outputs": [
    {
     "name": "stdout",
     "output_type": "stream",
     "text": [
      "Inference btask (id=1564) is started\n"
     ]
    }
   ],
   "source": [
    "task_id = api.task.run_inference(agent.id, project_test.id, trained_model.id, project_inf_name, inference_config)\n",
    "print('Inference task (id={}) is started'.format(task_id))"
   ]
  },
  {
   "cell_type": "code",
   "execution_count": 28,
   "metadata": {},
   "outputs": [
    {
     "name": "stdout",
     "output_type": "stream",
     "text": [
      "Inference task (id=1564) is finished\n"
     ]
    }
   ],
   "source": [
    "api.task.wait(task_id, api.task.Status.FINISHED)\n",
    "print('Inference task (id={}) is finished'.format(task_id))"
   ]
  },
  {
   "cell_type": "markdown",
   "metadata": {},
   "source": [
    "# Workflow Finished!"
   ]
  }
 ],
 "metadata": {
  "kernelspec": {
   "display_name": "Python 3",
   "language": "python",
   "name": "python3"
  },
  "language_info": {
   "codemirror_mode": {
    "name": "ipython",
    "version": 3
   },
   "file_extension": ".py",
   "mimetype": "text/x-python",
   "name": "python",
   "nbconvert_exporter": "python",
   "pygments_lexer": "ipython3",
   "version": "3.6.5"
  }
 },
 "nbformat": 4,
 "nbformat_minor": 2
}
