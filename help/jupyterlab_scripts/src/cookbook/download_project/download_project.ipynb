{
 "cells": [
  {
   "cell_type": "markdown",
   "metadata": {},
   "source": [
    "# Download project\n",
    "\n",
    "How to download Project (images + annotations) from Supervisely to local folder\n",
    "\n",
    "**Input**:\n",
    "- Existing Project in Supervisely\n",
    "\n",
    "**Output**:\n",
    "- Supervisely format Project in local folder"
   ]
  },
  {
   "cell_type": "markdown",
   "metadata": {},
   "source": [
    "## Configuration\n",
    "\n",
    "Edit the following settings for your own case"
   ]
  },
  {
   "cell_type": "code",
   "execution_count": 1,
   "metadata": {},
   "outputs": [],
   "source": [
    "import supervisely_lib as sly\n",
    "import os"
   ]
  },
  {
   "cell_type": "code",
   "execution_count": 2,
   "metadata": {},
   "outputs": [],
   "source": [
    "team_name = \"jupyter_tutorials\"\n",
    "workspace_name = \"First Workspace\"\n",
    "project_name = \"tutorial_project\"\n",
    "save_directory = './tutorial_project'\n",
    "\n",
    "# Obtain server address and your api_token from environment variables\n",
    "# Edit those values if you run this notebook on your own PC\n",
    "address = os.environ['SERVER_ADDRESS']\n",
    "token = os.environ['API_TOKEN']"
   ]
  },
  {
   "cell_type": "code",
   "execution_count": 3,
   "metadata": {},
   "outputs": [],
   "source": [
    "# Initialize API object\n",
    "api = sly.Api(address, token)"
   ]
  },
  {
   "cell_type": "markdown",
   "metadata": {},
   "source": [
    "## Verify input values\n",
    "\n",
    "Test that context (team / workspace / project) exists"
   ]
  },
  {
   "cell_type": "code",
   "execution_count": 4,
   "metadata": {},
   "outputs": [
    {
     "name": "stdout",
     "output_type": "stream",
     "text": [
      "Team: id=30, name=jupyter_tutorials\n",
      "Workspace: id=71, name=First Workspace\n",
      "Project: id=864, name=tutorial_project\n"
     ]
    }
   ],
   "source": [
    "# get IDs of team, workspace and project by names\n",
    "\n",
    "team = api.team.get_info_by_name(team_name)\n",
    "if team is None:\n",
    "    raise RuntimeError(\"Team {!r} not found\".format(team_name))\n",
    "\n",
    "workspace = api.workspace.get_info_by_name(team.id, workspace_name)\n",
    "if workspace is None:\n",
    "    raise RuntimeError(\"Workspace {!r} not found\".format(workspace_name))\n",
    "    \n",
    "project = api.project.get_info_by_name(workspace.id, project_name)\n",
    "if project is None:\n",
    "    raise RuntimeError(\"Project {!r} not found\".format(project_name))\n",
    "    \n",
    "print(\"Team: id={}, name={}\".format(team.id, team.name))\n",
    "print(\"Workspace: id={}, name={}\".format(workspace.id, workspace.name))\n",
    "print(\"Project: id={}, name={}\".format(project.id, project.name))"
   ]
  },
  {
   "cell_type": "markdown",
   "metadata": {},
   "source": [
    "## Create local Project and download remote images"
   ]
  },
  {
   "cell_type": "code",
   "execution_count": 5,
   "metadata": {},
   "outputs": [],
   "source": [
    "# create Project object for writing data in supervisely format  \n",
    "project_fs = sly.Project(save_directory, sly.OpenMode.CREATE)"
   ]
  },
  {
   "cell_type": "code",
   "execution_count": 6,
   "metadata": {},
   "outputs": [],
   "source": [
    "# download meta of remote project and save it to directory \n",
    "meta_json = api.project.get_meta(project.id)\n",
    "meta = sly.ProjectMeta.from_json(meta_json)\n",
    "project_fs.set_meta(meta)"
   ]
  },
  {
   "cell_type": "code",
   "execution_count": 7,
   "metadata": {},
   "outputs": [],
   "source": [
    "# iterate over remote datasets and images, download image and corresponding annotation, save item (img+ann pair) to directory \n",
    "for dataset in api.dataset.get_list(project.id):\n",
    "    dataset_fs = project_fs.create_dataset(dataset.name)\n",
    "    for img_info in api.image.get_list(dataset.id):\n",
    "        ann_info = api.annotation.download(img_info.id)\n",
    "        ann = sly.Annotation.from_json(ann_info.annotation, meta)\n",
    "        img = api.image.download_np(img_info.id)\n",
    "        dataset_fs.add_item_np(img_info.name, img, img_info.ext, ann)"
   ]
  },
  {
   "cell_type": "code",
   "execution_count": 8,
   "metadata": {},
   "outputs": [
    {
     "name": "stdout",
     "output_type": "stream",
     "text": [
      "Project 'tutorial_project' has been successfully downloaded\n",
      "Total number of images:  5\n"
     ]
    }
   ],
   "source": [
    "print(\"Project {!r} has been successfully downloaded\".format(project_name))\n",
    "print(\"Total number of images: \", project_fs.total_items)"
   ]
  },
  {
   "cell_type": "code",
   "execution_count": 9,
   "metadata": {},
   "outputs": [],
   "source": [
    "# create tar archive in order to download project as file from jupyter lab\n",
    "sly.fs.archive_directory('tutorial_project', tar_path='tutorial_project.tar')\n",
    "\n",
    "# remove project folder if need\n",
    "sly.fs.remove_dir('tutorial_project')"
   ]
  },
  {
   "cell_type": "code",
   "execution_count": null,
   "metadata": {},
   "outputs": [],
   "source": []
  }
 ],
 "metadata": {
  "kernelspec": {
   "display_name": "Python 3",
   "language": "python",
   "name": "python3"
  },
  "language_info": {
   "codemirror_mode": {
    "name": "ipython",
    "version": 3
   },
   "file_extension": ".py",
   "mimetype": "text/x-python",
   "name": "python",
   "nbconvert_exporter": "python",
   "pygments_lexer": "ipython3",
   "version": "3.6.5"
  }
 },
 "nbformat": 4,
 "nbformat_minor": 2
}
