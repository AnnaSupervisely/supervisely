{
 "cells": [
  {
   "cell_type": "markdown",
   "metadata": {},
   "source": [
    "# Upload project\n",
    "\n",
    "How to upload data to Supervisely using API\n",
    "\n",
    "**Input**:\n",
    "- Local folder with Project in Supervisely format\n",
    "\n",
    "**Output**:\n",
    "- New Project in Supervisely"
   ]
  },
  {
   "cell_type": "markdown",
   "metadata": {},
   "source": [
    "## Configuration\n",
    "\n",
    "Edit the following settings for your own case"
   ]
  },
  {
   "cell_type": "code",
   "execution_count": 1,
   "metadata": {},
   "outputs": [],
   "source": [
    "import supervisely_lib as sly\n",
    "import os\n",
    "import json"
   ]
  },
  {
   "cell_type": "code",
   "execution_count": 3,
   "metadata": {},
   "outputs": [],
   "source": [
    "# Local folder with Project\n",
    "project_directory = './tutorial_project'\n",
    "\n",
    "# New Project\n",
    "team_name = \"jupyter_tutorials\"\n",
    "workspace_name = \"First Workspace\"\n",
    "project_name = \"uploaded_project\"\n",
    "\n",
    "# Obtain server address and your api_token from environment variables\n",
    "# Edit those values if you run this notebook on your own PC\n",
    "address = os.environ['SERVER_ADDRESS']\n",
    "token = os.environ['API_TOKEN']"
   ]
  },
  {
   "cell_type": "code",
   "execution_count": 4,
   "metadata": {},
   "outputs": [],
   "source": [
    "# Initialize API object\n",
    "api = sly.Api(address, token)"
   ]
  },
  {
   "cell_type": "markdown",
   "metadata": {},
   "source": [
    "## Verify input values\n",
    "\n",
    "Test that context (team / workspace / project) exists"
   ]
  },
  {
   "cell_type": "code",
   "execution_count": 5,
   "metadata": {},
   "outputs": [],
   "source": [
    "# get IDs of team, workspace and project by names\n",
    "\n",
    "team = api.team.get_info_by_name(team_name)\n",
    "if team is None:\n",
    "    raise RuntimeError(\"Team {!r} not found\".format(team_name))\n",
    "\n",
    "workspace = api.workspace.get_info_by_name(team.id, workspace_name)\n",
    "if workspace is None:\n",
    "    raise RuntimeError(\"Workspace {!r} not found\".format(workspace_name))"
   ]
  },
  {
   "cell_type": "markdown",
   "metadata": {},
   "source": [
    "## Read local Project"
   ]
  },
  {
   "cell_type": "code",
   "execution_count": 6,
   "metadata": {},
   "outputs": [],
   "source": [
    "# read project from directory \n",
    "project_fs = sly.Project(project_directory, sly.OpenMode.READ)"
   ]
  },
  {
   "cell_type": "markdown",
   "metadata": {},
   "source": [
    "## Create remote Project"
   ]
  },
  {
   "cell_type": "code",
   "execution_count": 7,
   "metadata": {},
   "outputs": [],
   "source": [
    "# check if project already exists. If yes - generate new free name\n",
    "if api.project.exists(workspace.id, project_name):\n",
    "    project_name = api.project.get_free_name(workspace.id, project_name)"
   ]
  },
  {
   "cell_type": "code",
   "execution_count": null,
   "metadata": {},
   "outputs": [],
   "source": [
    "# create remote project and set corresponding meta information\n",
    "project = api.project.create(workspace.id, project_name)\n",
    "api.project.update_meta(project.id, project_fs.meta.to_json())\n",
    "print(\"Project: id={}, name={}\".format(project.id, project.name))"
   ]
  },
  {
   "cell_type": "code",
   "execution_count": 9,
   "metadata": {},
   "outputs": [],
   "source": [
    "# iterate over datasets, images and thier annotations in directory and upload that data to remote server\n",
    "for dataset_fs in project_fs:\n",
    "    dataset = api.dataset.create(project.id, dataset_fs.name)\n",
    "    for item_name in dataset_fs:\n",
    "        img_path, ann_path = dataset_fs.get_item_paths(item_name)\n",
    "        \n",
    "        #upload image if needed and add it to remote dataset \n",
    "        img_hash = sly.fs.get_file_hash(img_path)\n",
    "        if api.image.check_image_uploaded(img_hash) is False:\n",
    "            img_hash = api.image.upload_path(img_path)\n",
    "        image = api.image.add(dataset.id, item_name, img_hash)\n",
    "        \n",
    "        #upload annotation to added image\n",
    "        with open(ann_path) as f:\n",
    "            ann_json = json.load(f)\n",
    "        api.annotation.upload(image.id, ann_json)\n",
    "        "
   ]
  },
  {
   "cell_type": "code",
   "execution_count": 10,
   "metadata": {},
   "outputs": [
    {
     "name": "stdout",
     "output_type": "stream",
     "text": [
      "Project 'uploaded_project_002' has been sucessfully uploaded\n",
      "Number of uploaded images:  5\n"
     ]
    }
   ],
   "source": [
    "print(\"Project {!r} has been sucessfully uploaded\".format(project_name))\n",
    "print(\"Number of uploaded images: \", api.project.get_images_count(project.id))"
   ]
  }
 ],
 "metadata": {
  "kernelspec": {
   "display_name": "Python 3",
   "language": "python",
   "name": "python3"
  },
  "language_info": {
   "codemirror_mode": {
    "name": "ipython",
    "version": 3
   },
   "file_extension": ".py",
   "mimetype": "text/x-python",
   "name": "python",
   "nbconvert_exporter": "python",
   "pygments_lexer": "ipython3",
   "version": "3.6.5"
  }
 },
 "nbformat": 4,
 "nbformat_minor": 2
}
