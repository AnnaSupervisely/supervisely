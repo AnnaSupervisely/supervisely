{
 "cells": [
  {
   "cell_type": "markdown",
   "metadata": {},
   "source": [
    "# Trainign data for segmentation\n",
    "\n",
    "Script augments input projects to prepare training dataset for segmentation (or instance segmentation) models.\n",
    "\n",
    "This Notebook is a replacement for DTL \"Create train set -> Segmentation\"\n",
    "\n",
    "**Input**:\n",
    "- Existing annotated Project\n",
    "\n",
    "**Output**:\n",
    "- New augumented Project, ready for model training"
   ]
  },
  {
   "cell_type": "markdown",
   "metadata": {},
   "source": [
    "## Configuration\n",
    "\n",
    "Edit the following settings for your own case"
   ]
  },
  {
   "cell_type": "code",
   "execution_count": 1,
   "metadata": {},
   "outputs": [],
   "source": [
    "%matplotlib inline\n",
    "import supervisely_lib as sly\n",
    "import os\n",
    "from tqdm import tqdm\n",
    "import random\n",
    "import matplotlib.pyplot as plt\n",
    "import numpy as np\n",
    "import math"
   ]
  },
  {
   "cell_type": "code",
   "execution_count": 2,
   "metadata": {},
   "outputs": [],
   "source": [
    "team_name = \"jupyter_tutorials\"\n",
    "workspace_name = \"cookbook\"\n",
    "project_name = \"tutorial_project\"\n",
    "\n",
    "dst_project_name = \"tutorial_project_aug_segmentation\"\n",
    "\n",
    "validation_portion = 0.1\n",
    "image_multiplier = 5\n",
    "\n",
    "class_bg = sly.ObjClass('bg', sly.Rectangle, color=[0, 0, 64])\n",
    "tag_meta_train = sly.TagMeta('train', sly.TagValueType.NONE)\n",
    "tag_meta_val = sly.TagMeta('val', sly.TagValueType.NONE)\n",
    "\n",
    "# Obtain server address and your api_token from environment variables\n",
    "# Edit those values if you run this notebook on your own PC\n",
    "address = os.environ['SERVER_ADDRESS']\n",
    "token = os.environ['API_TOKEN']"
   ]
  },
  {
   "cell_type": "code",
   "execution_count": 3,
   "metadata": {},
   "outputs": [],
   "source": [
    "# Initialize API object\n",
    "api = sly.Api(address, token)"
   ]
  },
  {
   "cell_type": "markdown",
   "metadata": {},
   "source": [
    "## Verify input values\n",
    "\n",
    "Test that context (team / workspace / project) exists"
   ]
  },
  {
   "cell_type": "code",
   "execution_count": 4,
   "metadata": {},
   "outputs": [
    {
     "name": "stdout",
     "output_type": "stream",
     "text": [
      "Team: id=30, name=jupyter_tutorials\n",
      "Workspace: id=76, name=cookbook\n",
      "Project: id=898, name=tutorial_project\n"
     ]
    }
   ],
   "source": [
    "# get IDs of team, workspace and project by names\n",
    "\n",
    "team = api.team.get_info_by_name(team_name)\n",
    "if team is None:\n",
    "    raise RuntimeError(\"Team {!r} not found\".format(team_name))\n",
    "\n",
    "workspace = api.workspace.get_info_by_name(team.id, workspace_name)\n",
    "if workspace is None:\n",
    "    raise RuntimeError(\"Workspace {!r} not found\".format(workspace_name))\n",
    "    \n",
    "project = api.project.get_info_by_name(workspace.id, project_name)\n",
    "if project is None:\n",
    "    raise RuntimeError(\"Project {!r} not found\".format(project_name))\n",
    "    \n",
    "print(\"Team: id={}, name={}\".format(team.id, team.name))\n",
    "print(\"Workspace: id={}, name={}\".format(workspace.id, workspace.name))\n",
    "print(\"Project: id={}, name={}\".format(project.id, project.name))"
   ]
  },
  {
   "cell_type": "markdown",
   "metadata": {},
   "source": [
    "## Get Source Project Meta"
   ]
  },
  {
   "cell_type": "code",
   "execution_count": 5,
   "metadata": {},
   "outputs": [
    {
     "name": "stdout",
     "output_type": "stream",
     "text": [
      "Source ProjectMeta: \n",
      " ProjectMeta:\n",
      "Object Classes\n",
      "+--------+-----------+----------------+\n",
      "|  Name  |   Shape   |     Color      |\n",
      "+--------+-----------+----------------+\n",
      "|  bike  | Rectangle | [246, 255, 0]  |\n",
      "|  car   |  Polygon  | [190, 85, 206] |\n",
      "|  dog   |  Polygon  |  [253, 0, 0]   |\n",
      "| person |   Bitmap  |  [0, 255, 18]  |\n",
      "+--------+-----------+----------------+\n",
      "Image Tags\n",
      "+-------------+--------------+-----------------------+\n",
      "|     Name    |  Value type  |    Possible values    |\n",
      "+-------------+--------------+-----------------------+\n",
      "| cars_number |  any_number  |          None         |\n",
      "|     like    |     none     |          None         |\n",
      "|   situated  | oneof_string | ['inside', 'outside'] |\n",
      "+-------------+--------------+-----------------------+\n",
      "Object Tags\n",
      "+---------------+--------------+-----------------------+\n",
      "|      Name     |  Value type  |    Possible values    |\n",
      "+---------------+--------------+-----------------------+\n",
      "|   car_color   |  any_string  |          None         |\n",
      "| person_gender | oneof_string |   ['male', 'female']  |\n",
      "|  vehicle_age  | oneof_string | ['modern', 'vintage'] |\n",
      "+---------------+--------------+-----------------------+\n",
      "\n"
     ]
    }
   ],
   "source": [
    "project = api.project.get_info_by_name(workspace.id, project_name)\n",
    "meta_json = api.project.get_meta(project.id)\n",
    "meta = sly.ProjectMeta.from_json(meta_json)\n",
    "print(\"Source ProjectMeta: \\n\", meta)"
   ]
  },
  {
   "cell_type": "markdown",
   "metadata": {},
   "source": [
    "## Construct Destination ProjectMeta"
   ]
  },
  {
   "cell_type": "code",
   "execution_count": 6,
   "metadata": {},
   "outputs": [],
   "source": [
    "def process_meta(input_meta):\n",
    "    output_meta = input_meta.clone(obj_classes=sly.ObjClassCollection())\n",
    "    \n",
    "    classes_mapping = {}\n",
    "    for obj_class in input_meta.obj_classes:\n",
    "        classes_mapping[obj_class.name] = '{}_bitmap'.format(obj_class.name)\n",
    "        new_obj_class = sly.ObjClass(classes_mapping[obj_class.name], sly.Bitmap, color=obj_class.color)\n",
    "        output_meta = output_meta.add_obj_class(new_obj_class)\n",
    "        \n",
    "    output_meta = output_meta.add_obj_class(class_bg)\n",
    "    output_meta = output_meta.add_img_tag_meta(tag_meta_train)\n",
    "    output_meta = output_meta.add_img_tag_meta(tag_meta_val)\n",
    "    return output_meta, classes_mapping"
   ]
  },
  {
   "cell_type": "code",
   "execution_count": 7,
   "metadata": {},
   "outputs": [
    {
     "name": "stdout",
     "output_type": "stream",
     "text": [
      "Destination ProjectMeta:\n",
      " ProjectMeta:\n",
      "Object Classes\n",
      "+---------------+-----------+----------------+\n",
      "|      Name     |   Shape   |     Color      |\n",
      "+---------------+-----------+----------------+\n",
      "|  bike_bitmap  |   Bitmap  | [246, 255, 0]  |\n",
      "|   car_bitmap  |   Bitmap  | [190, 85, 206] |\n",
      "|   dog_bitmap  |   Bitmap  |  [253, 0, 0]   |\n",
      "| person_bitmap |   Bitmap  |  [0, 255, 18]  |\n",
      "|       bg      | Rectangle |   [0, 0, 64]   |\n",
      "+---------------+-----------+----------------+\n",
      "Image Tags\n",
      "+-------------+--------------+-----------------------+\n",
      "|     Name    |  Value type  |    Possible values    |\n",
      "+-------------+--------------+-----------------------+\n",
      "| cars_number |  any_number  |          None         |\n",
      "|     like    |     none     |          None         |\n",
      "|   situated  | oneof_string | ['inside', 'outside'] |\n",
      "|    train    |     none     |          None         |\n",
      "|     val     |     none     |          None         |\n",
      "+-------------+--------------+-----------------------+\n",
      "Object Tags\n",
      "+---------------+--------------+-----------------------+\n",
      "|      Name     |  Value type  |    Possible values    |\n",
      "+---------------+--------------+-----------------------+\n",
      "|   car_color   |  any_string  |          None         |\n",
      "| person_gender | oneof_string |   ['male', 'female']  |\n",
      "|  vehicle_age  | oneof_string | ['modern', 'vintage'] |\n",
      "+---------------+--------------+-----------------------+\n",
      "\n"
     ]
    }
   ],
   "source": [
    "dst_meta, classes_mapping = process_meta(meta)\n",
    "print(\"Destination ProjectMeta:\\n\", dst_meta)"
   ]
  },
  {
   "cell_type": "markdown",
   "metadata": {},
   "source": [
    "## Create Destination project"
   ]
  },
  {
   "cell_type": "code",
   "execution_count": 8,
   "metadata": {},
   "outputs": [
    {
     "name": "stdout",
     "output_type": "stream",
     "text": [
      "Destination project name:  tutorial_project_aug_segmentation\n"
     ]
    }
   ],
   "source": [
    "# check if destination project already exists. If yes - generate new free name\n",
    "if api.project.exists(workspace.id, dst_project_name):\n",
    "    dst_project_name = api.project.get_free_name(workspace.id, dst_project_name)\n",
    "print(\"Destination project name: \", dst_project_name)"
   ]
  },
  {
   "cell_type": "code",
   "execution_count": 9,
   "metadata": {},
   "outputs": [
    {
     "name": "stdout",
     "output_type": "stream",
     "text": [
      "Destination project has been created: id=1247, name='tutorial_project_aug_segmentation'\n"
     ]
    }
   ],
   "source": [
    "dst_project = api.project.create(workspace.id, dst_project_name)\n",
    "api.project.update_meta(dst_project.id, dst_meta.to_json())\n",
    "print(\"Destination project has been created: id={}, name={!r}\".format(dst_project.id, dst_project.name))"
   ]
  },
  {
   "cell_type": "markdown",
   "metadata": {},
   "source": [
    "## Iterate over all images, augment them and uplod to destination project  "
   ]
  },
  {
   "cell_type": "code",
   "execution_count": 10,
   "metadata": {},
   "outputs": [],
   "source": [
    "def process(img, ann):\n",
    "    results = []\n",
    "    \n",
    "    ann_new = ann.clone(labels=[])\n",
    "    for label in ann.labels:\n",
    "        new_class = dst_meta.get_obj_class(classes_mapping[label.obj_class.name])\n",
    "        [new_geometry] = sly.geometry_to_bitmap(label.geometry)\n",
    "        new_label = label.clone(obj_class=new_class, geometry=new_geometry)\n",
    "        ann_new = ann_new.add_label(new_label)\n",
    "    \n",
    "    results.append((img, ann_new))\n",
    "\n",
    "    img_lr, ann_lr = sly.aug.fliplr(img, ann_new)\n",
    "    results.append((img_lr, ann_lr))\n",
    "\n",
    "    crops = []\n",
    "    for cur_img, cur_ann in results:\n",
    "        for i in range(image_multiplier):\n",
    "            res_img, res_ann = sly.aug.random_crop_fraction(cur_img, cur_ann, (0.6, 0.9), (0.6, 0.9))\n",
    "            crops.append((res_img, res_ann))\n",
    "    results.extend(crops)\n",
    "\n",
    "    tagged_results = []\n",
    "    for cur_img, cur_ann in results:\n",
    "        bg_label = sly.Label(sly.Rectangle.from_array(cur_img), class_bg)\n",
    "        # Order matters, please read \"tutorial 1\" for more info.\n",
    "        cur_ann = cur_ann.clone(labels = ([bg_label] + cur_ann.labels))\n",
    "        \n",
    "        tag = sly.Tag(tag_meta_val) if random.random() <= validation_portion else sly.Tag(tag_meta_train)\n",
    "        cur_ann = cur_ann.add_tag(tag)\n",
    "        \n",
    "        tagged_results.append((cur_img, cur_ann))\n",
    "        \n",
    "    res_imgs = [img for img, ann in tagged_results]\n",
    "    res_anns = [ann for img, ann in tagged_results]\n",
    "    return res_imgs, res_anns"
   ]
  },
  {
   "cell_type": "code",
   "execution_count": 11,
   "metadata": {},
   "outputs": [
    {
     "name": "stdout",
     "output_type": "stream",
     "text": [
      "Dataset: dataset_01\n"
     ]
    },
    {
     "name": "stderr",
     "output_type": "stream",
     "text": [
      "100%|██████████| 3/3 [00:02<00:00,  1.42it/s]\n",
      "  0%|          | 0/2 [00:00<?, ?it/s]"
     ]
    },
    {
     "name": "stdout",
     "output_type": "stream",
     "text": [
      "Dataset: dataset_02\n"
     ]
    },
    {
     "name": "stderr",
     "output_type": "stream",
     "text": [
      "100%|██████████| 2/2 [00:01<00:00,  1.67it/s]\n"
     ]
    }
   ],
   "source": [
    "aug_results_debug = None\n",
    "\n",
    "for dataset in api.dataset.get_list(project.id):\n",
    "    print('Dataset: {}'.format(dataset.name))\n",
    "    dst_dataset = api.dataset.create(dst_project.id, dataset.name)\n",
    "\n",
    "    for image in tqdm(api.image.get_list(dataset.id)):\n",
    "        img = api.image.download_np(image.id)\n",
    "        ann_json = api.annotation.download(image.id).annotation\n",
    "        ann = sly.Annotation.from_json(ann_json, meta)\n",
    "\n",
    "        aug_imgs, aug_anns = process(img, ann)\n",
    "        names = sly.generate_names(image.name, len(aug_imgs))\n",
    "        \n",
    "        dst_image_infos = api.image.upload_nps(dst_dataset.id, names, aug_imgs)\n",
    "        dst_image_ids = [img_info.id for img_info in dst_image_infos]\n",
    "        api.annotation.upload_anns(dst_image_ids, aug_anns)\n",
    "        \n",
    "        if aug_results_debug is None:\n",
    "            aug_results_debug = list(zip(aug_imgs, aug_anns))"
   ]
  },
  {
   "cell_type": "markdown",
   "metadata": {},
   "source": [
    "## Visualize first image augmentations"
   ]
  },
  {
   "cell_type": "raw",
   "metadata": {},
   "source": [
    "for aug_img, aug_ann in aug_results_debug:\n",
    "    draw_img = np.copy(aug_img)\n",
    "    aug_ann.draw(draw_img)\n",
    "    plt.figure()\n",
    "    plt.imshow(draw_img)"
   ]
  },
  {
   "cell_type": "code",
   "execution_count": 12,
   "metadata": {},
   "outputs": [
    {
     "data": {
      "image/png": "[encoded data removed]",
      "text/plain": [
       "<Figure size 1440x1440 with 12 Axes>"
      ]
     },
     "metadata": {
      "needs_background": "light"
     },
     "output_type": "display_data"
    }
   ],
   "source": [
    "f = plt.figure(figsize=(20, 20))\n",
    "\n",
    "ncols = 3\n",
    "nrows = math.ceil(len(aug_results_debug) / ncols)\n",
    "\n",
    "index = 1\n",
    "for aug_img, aug_ann in aug_results_debug:\n",
    "    draw_img = np.copy(aug_img)\n",
    "    aug_ann.draw(draw_img, thickness=5)\n",
    "    \n",
    "    f.add_subplot(nrows, ncols, index)\n",
    "    plt.imshow(draw_img)\n",
    "    \n",
    "    index += 1\n",
    "\n",
    "plt.show()"
   ]
  },
  {
   "cell_type": "code",
   "execution_count": null,
   "metadata": {},
   "outputs": [],
   "source": []
  }
 ],
 "metadata": {
  "kernelspec": {
   "display_name": "Python 3",
   "language": "python",
   "name": "python3"
  },
  "language_info": {
   "codemirror_mode": {
    "name": "ipython",
    "version": 3
   },
   "file_extension": ".py",
   "mimetype": "text/x-python",
   "name": "python",
   "nbconvert_exporter": "python",
   "pygments_lexer": "ipython3",
   "version": "3.6.5"
  }
 },
 "nbformat": 4,
 "nbformat_minor": 2
}
