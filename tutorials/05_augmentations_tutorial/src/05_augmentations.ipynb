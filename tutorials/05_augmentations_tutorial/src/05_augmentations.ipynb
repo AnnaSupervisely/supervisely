{
 "cells": [
  {
   "cell_type": "code",
   "execution_count": 1,
   "metadata": {},
   "outputs": [],
   "source": [
    "import supervisely_lib as sly\n",
    "import cv2\n",
    "from Layer import Layer\n",
    "import layers"
   ]
  },
  {
   "cell_type": "code",
   "execution_count": 2,
   "metadata": {},
   "outputs": [],
   "source": [
    "crop_settings = {\n",
    "  \"action\": \"crop\",\n",
    "  \"src\": [\"$data1\"],\n",
    "  \"dst\": \"$data2\",\n",
    "  \"settings\": {\n",
    "    \"sides\": {\n",
    "      \"top\":\"30%\",\n",
    "      \"left\":\"100px\",\n",
    "      \"right\":\"100px\",\n",
    "      \"bottom\":\"0px\"\n",
    "    }\n",
    "  }\n",
    "}\n",
    "flip_settings = {\n",
    "  \"action\": \"flip\",\n",
    "  \"src\": [\"$data1\"],\n",
    "  \"dst\": \"$data2\",\n",
    "  \"settings\": {\n",
    "    \"axis\": \"vertical\"\n",
    "  }\n",
    "}\n",
    "inst_crop_settings = {\n",
    "  \"action\": \"instances_crop\",\n",
    "  \"src\": [\n",
    "    \"$sample\"\n",
    "  ],\n",
    "  \"dst\": \"$sample1\",\n",
    "  \"settings\": {\n",
    "    \"classes\": [\n",
    "      \"Car\"\n",
    "    ],\n",
    "    \"pad\": {\n",
    "      \"sides\": {\n",
    "        \"top\": \"10%\",\n",
    "        \"left\": \"10%\",\n",
    "        \"right\": \"10%\",\n",
    "        \"bottom\": \"10%\"\n",
    "      }\n",
    "    }\n",
    "  }\n",
    "}"
   ]
  },
  {
   "cell_type": "code",
   "execution_count": 4,
   "metadata": {},
   "outputs": [],
   "source": [
    "crop_layer = layers.processing.CropLayer.CropLayer(crop_settings)\n",
    "flip_layer = layers.processing.FlipLayer.FlipLayer(flip_settings)\n",
    "inst_crop_layer = layers.processing.InstancesCrop.InstancesCropLayer(inst_crop_settings)"
   ]
  },
  {
   "cell_type": "code",
   "execution_count": 5,
   "metadata": {},
   "outputs": [],
   "source": [
    "task_paths = sly.TaskPaths()\n",
    "project_dir = task_paths.project_dir\n",
    "project_meta = sly.ProjectMeta.from_dir(project_dir)"
   ]
  },
  {
   "cell_type": "code",
   "execution_count": 6,
   "metadata": {},
   "outputs": [],
   "source": [
    "fs = sly.ProjectFS.from_disk(*sly.ProjectFS.split_dir_project(project_dir))\n",
    "out_pr_structure = sly.ProjectStructure('project_augmentations')"
   ]
  },
  {
   "cell_type": "code",
   "execution_count": 7,
   "metadata": {},
   "outputs": [],
   "source": [
    "for sample_info in fs:\n",
    "    sample_data = sample_info.ia_data\n",
    "    dt = {\n",
    "        'src_img_path': sample_info.img_path,\n",
    "        'ann_img_path': sample_info.ann_path,\n",
    "        **sample_data\n",
    "    }\n",
    "    out_pr_structure.add_item(sample_info.ds_name, sample_info.image_name, dt)"
   ]
  },
  {
   "cell_type": "code",
   "execution_count": 8,
   "metadata": {},
   "outputs": [],
   "source": [
    "out_pr_fs = sly.ProjectFS(task_paths.results_dir, out_pr_structure)\n",
    "out_pr_fs.make_dirs()"
   ]
  },
  {
   "cell_type": "code",
   "execution_count": 10,
   "metadata": {},
   "outputs": [],
   "source": [
    "import os.path as osp\n",
    "for s in out_pr_fs:\n",
    "    sly.copy_file(s.ia_data['src_img_path'], s.img_path)\n",
    "    sly.copy_file(s.ia_data['ann_img_path'], s.ann_path)\n",
    "    img_name, img_ext = osp.splitext(s.img_path)\n",
    "    img_desc = sly.ImageDescriptor(s)\n",
    "    ann_name, ann_ext = osp.splitext(s.ann_path)\n",
    "    ann_packed = sly.json_load(s.ann_path)\n",
    "    ann = sly.Annotation.from_packed(ann_packed, project_meta)\n",
    "    data_el = (img_desc, ann)\n",
    "    cropped_img = crop_layer.process(data_el)\n",
    "    flipped_img = flip_layer.process(data_el)\n",
    "    inst_crop_img = inst_crop_layer.process(data_el)\n",
    "    for new_img_desc, new_ann in cropped_img:\n",
    "        new_img_desc.write_image_local(img_name + \"_crop\" + img_ext)\n",
    "        sly.json_dump(new_ann.pack(), ann_name + \"_crop\" + ann_ext)\n",
    "    for new_img_desc, new_ann in flipped_img:\n",
    "        new_img_desc.write_image_local(img_name + \"_flip\" + img_ext)\n",
    "        sly.json_dump(new_ann.pack(), ann_name + \"_flip\" + ann_ext)\n",
    "    for new_img_desc, new_ann in inst_crop_img:\n",
    "        new_img_desc.write_image_local(img_name + \"_inst_crop\" + img_ext)\n",
    "        sly.json_dump(new_ann.pack(), ann_name + \"_inst_crop\" + ann_ext)"
   ]
  },
  {
   "cell_type": "code",
   "execution_count": null,
   "metadata": {},
   "outputs": [],
   "source": []
  }
 ],
 "metadata": {
  "kernelspec": {
   "display_name": "Python 3",
   "language": "python",
   "name": "python3"
  },
  "language_info": {
   "codemirror_mode": {
    "name": "ipython",
    "version": 3
   },
   "file_extension": ".py",
   "mimetype": "text/x-python",
   "name": "python",
   "nbconvert_exporter": "python",
   "pygments_lexer": "ipython3",
   "version": "3.6.5"
  }
 },
 "nbformat": 4,
 "nbformat_minor": 2
}
